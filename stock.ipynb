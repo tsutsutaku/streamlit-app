{
 "metadata": {
  "language_info": {
   "codemirror_mode": {
    "name": "ipython",
    "version": 3
   },
   "file_extension": ".py",
   "mimetype": "text/x-python",
   "name": "python",
   "nbconvert_exporter": "python",
   "pygments_lexer": "ipython3",
   "version": "3.8.2"
  },
  "orig_nbformat": 2,
  "kernelspec": {
   "name": "python382jvsc74a57bd031f2aee4e71d21fbe5cf8b01ff0e069b9275f58929596ceb00d14d90e3e16cd6",
   "display_name": "Python 3.8.2 64-bit"
  },
  "metadata": {
   "interpreter": {
    "hash": "31f2aee4e71d21fbe5cf8b01ff0e069b9275f58929596ceb00d14d90e3e16cd6"
   }
  }
 },
 "nbformat": 4,
 "nbformat_minor": 2,
 "cells": [
  {
   "cell_type": "code",
   "execution_count": 1,
   "metadata": {},
   "outputs": [],
   "source": [
    "import pandas as pd\n",
    "import numpy as np\n",
    "import yfinance as yf"
   ]
  },
  {
   "cell_type": "code",
   "execution_count": 25,
   "metadata": {},
   "outputs": [],
   "source": [
    "aapl = yf.Ticker('AAPL')"
   ]
  },
  {
   "cell_type": "code",
   "execution_count": 26,
   "metadata": {},
   "outputs": [
    {
     "output_type": "execute_result",
     "data": {
      "text/plain": [
       "                  Open        High         Low       Close     Volume  \\\n",
       "Date                                                                    \n",
       "2021-04-30  131.556541  133.333521  130.847753  131.237091  109713200   \n",
       "2021-05-03  131.816094  133.842666  131.606459  132.315247   75135100   \n",
       "2021-05-04  130.967542  131.267036  126.485150  127.633202  137564700   \n",
       "2021-05-05  128.980915  130.228796  127.753005  127.882790   84000900   \n",
       "2021-05-06  127.673135  129.529982  126.914422  129.520004   78128300   \n",
       "2021-05-07  130.850006  131.259995  129.479996  130.210007   78892700   \n",
       "2021-05-10  129.410004  129.539993  126.809998  126.849998   88071200   \n",
       "2021-05-11  123.500000  126.269997  122.769997  125.910004  126142800   \n",
       "2021-05-12  123.400002  124.639999  122.250000  122.769997  112172300   \n",
       "2021-05-13  124.580002  126.150002  124.260002  124.970001  105861300   \n",
       "2021-05-14  126.250000  127.889999  125.849998  127.449997   81806500   \n",
       "2021-05-17  126.820000  126.930000  125.169998  126.269997   74244600   \n",
       "2021-05-18  126.559998  126.989998  124.779999  124.849998   63342900   \n",
       "2021-05-19  123.160004  124.919998  122.860001  124.690002   92612000   \n",
       "2021-05-20  125.230003  127.720001  125.099998  127.309998   76756000   \n",
       "2021-05-21  127.820000  128.000000  125.209999  125.430000   79209300   \n",
       "2021-05-24  126.010002  127.940002  125.940002  127.099998   63092900   \n",
       "2021-05-25  127.820000  128.320007  126.320000  126.900002   72009500   \n",
       "2021-05-26  126.959999  127.389999  126.419998  126.849998   56496100   \n",
       "2021-05-27  126.440002  127.639999  125.279999  125.279999   94625601   \n",
       "\n",
       "            Dividends  Stock Splits  \n",
       "Date                                 \n",
       "2021-04-30       0.00             0  \n",
       "2021-05-03       0.00             0  \n",
       "2021-05-04       0.00             0  \n",
       "2021-05-05       0.00             0  \n",
       "2021-05-06       0.00             0  \n",
       "2021-05-07       0.22             0  \n",
       "2021-05-10       0.00             0  \n",
       "2021-05-11       0.00             0  \n",
       "2021-05-12       0.00             0  \n",
       "2021-05-13       0.00             0  \n",
       "2021-05-14       0.00             0  \n",
       "2021-05-17       0.00             0  \n",
       "2021-05-18       0.00             0  \n",
       "2021-05-19       0.00             0  \n",
       "2021-05-20       0.00             0  \n",
       "2021-05-21       0.00             0  \n",
       "2021-05-24       0.00             0  \n",
       "2021-05-25       0.00             0  \n",
       "2021-05-26       0.00             0  \n",
       "2021-05-27       0.00             0  "
      ],
      "text/html": "<div>\n<style scoped>\n    .dataframe tbody tr th:only-of-type {\n        vertical-align: middle;\n    }\n\n    .dataframe tbody tr th {\n        vertical-align: top;\n    }\n\n    .dataframe thead th {\n        text-align: right;\n    }\n</style>\n<table border=\"1\" class=\"dataframe\">\n  <thead>\n    <tr style=\"text-align: right;\">\n      <th></th>\n      <th>Open</th>\n      <th>High</th>\n      <th>Low</th>\n      <th>Close</th>\n      <th>Volume</th>\n      <th>Dividends</th>\n      <th>Stock Splits</th>\n    </tr>\n    <tr>\n      <th>Date</th>\n      <th></th>\n      <th></th>\n      <th></th>\n      <th></th>\n      <th></th>\n      <th></th>\n      <th></th>\n    </tr>\n  </thead>\n  <tbody>\n    <tr>\n      <th>2021-04-30</th>\n      <td>131.556541</td>\n      <td>133.333521</td>\n      <td>130.847753</td>\n      <td>131.237091</td>\n      <td>109713200</td>\n      <td>0.00</td>\n      <td>0</td>\n    </tr>\n    <tr>\n      <th>2021-05-03</th>\n      <td>131.816094</td>\n      <td>133.842666</td>\n      <td>131.606459</td>\n      <td>132.315247</td>\n      <td>75135100</td>\n      <td>0.00</td>\n      <td>0</td>\n    </tr>\n    <tr>\n      <th>2021-05-04</th>\n      <td>130.967542</td>\n      <td>131.267036</td>\n      <td>126.485150</td>\n      <td>127.633202</td>\n      <td>137564700</td>\n      <td>0.00</td>\n      <td>0</td>\n    </tr>\n    <tr>\n      <th>2021-05-05</th>\n      <td>128.980915</td>\n      <td>130.228796</td>\n      <td>127.753005</td>\n      <td>127.882790</td>\n      <td>84000900</td>\n      <td>0.00</td>\n      <td>0</td>\n    </tr>\n    <tr>\n      <th>2021-05-06</th>\n      <td>127.673135</td>\n      <td>129.529982</td>\n      <td>126.914422</td>\n      <td>129.520004</td>\n      <td>78128300</td>\n      <td>0.00</td>\n      <td>0</td>\n    </tr>\n    <tr>\n      <th>2021-05-07</th>\n      <td>130.850006</td>\n      <td>131.259995</td>\n      <td>129.479996</td>\n      <td>130.210007</td>\n      <td>78892700</td>\n      <td>0.22</td>\n      <td>0</td>\n    </tr>\n    <tr>\n      <th>2021-05-10</th>\n      <td>129.410004</td>\n      <td>129.539993</td>\n      <td>126.809998</td>\n      <td>126.849998</td>\n      <td>88071200</td>\n      <td>0.00</td>\n      <td>0</td>\n    </tr>\n    <tr>\n      <th>2021-05-11</th>\n      <td>123.500000</td>\n      <td>126.269997</td>\n      <td>122.769997</td>\n      <td>125.910004</td>\n      <td>126142800</td>\n      <td>0.00</td>\n      <td>0</td>\n    </tr>\n    <tr>\n      <th>2021-05-12</th>\n      <td>123.400002</td>\n      <td>124.639999</td>\n      <td>122.250000</td>\n      <td>122.769997</td>\n      <td>112172300</td>\n      <td>0.00</td>\n      <td>0</td>\n    </tr>\n    <tr>\n      <th>2021-05-13</th>\n      <td>124.580002</td>\n      <td>126.150002</td>\n      <td>124.260002</td>\n      <td>124.970001</td>\n      <td>105861300</td>\n      <td>0.00</td>\n      <td>0</td>\n    </tr>\n    <tr>\n      <th>2021-05-14</th>\n      <td>126.250000</td>\n      <td>127.889999</td>\n      <td>125.849998</td>\n      <td>127.449997</td>\n      <td>81806500</td>\n      <td>0.00</td>\n      <td>0</td>\n    </tr>\n    <tr>\n      <th>2021-05-17</th>\n      <td>126.820000</td>\n      <td>126.930000</td>\n      <td>125.169998</td>\n      <td>126.269997</td>\n      <td>74244600</td>\n      <td>0.00</td>\n      <td>0</td>\n    </tr>\n    <tr>\n      <th>2021-05-18</th>\n      <td>126.559998</td>\n      <td>126.989998</td>\n      <td>124.779999</td>\n      <td>124.849998</td>\n      <td>63342900</td>\n      <td>0.00</td>\n      <td>0</td>\n    </tr>\n    <tr>\n      <th>2021-05-19</th>\n      <td>123.160004</td>\n      <td>124.919998</td>\n      <td>122.860001</td>\n      <td>124.690002</td>\n      <td>92612000</td>\n      <td>0.00</td>\n      <td>0</td>\n    </tr>\n    <tr>\n      <th>2021-05-20</th>\n      <td>125.230003</td>\n      <td>127.720001</td>\n      <td>125.099998</td>\n      <td>127.309998</td>\n      <td>76756000</td>\n      <td>0.00</td>\n      <td>0</td>\n    </tr>\n    <tr>\n      <th>2021-05-21</th>\n      <td>127.820000</td>\n      <td>128.000000</td>\n      <td>125.209999</td>\n      <td>125.430000</td>\n      <td>79209300</td>\n      <td>0.00</td>\n      <td>0</td>\n    </tr>\n    <tr>\n      <th>2021-05-24</th>\n      <td>126.010002</td>\n      <td>127.940002</td>\n      <td>125.940002</td>\n      <td>127.099998</td>\n      <td>63092900</td>\n      <td>0.00</td>\n      <td>0</td>\n    </tr>\n    <tr>\n      <th>2021-05-25</th>\n      <td>127.820000</td>\n      <td>128.320007</td>\n      <td>126.320000</td>\n      <td>126.900002</td>\n      <td>72009500</td>\n      <td>0.00</td>\n      <td>0</td>\n    </tr>\n    <tr>\n      <th>2021-05-26</th>\n      <td>126.959999</td>\n      <td>127.389999</td>\n      <td>126.419998</td>\n      <td>126.849998</td>\n      <td>56496100</td>\n      <td>0.00</td>\n      <td>0</td>\n    </tr>\n    <tr>\n      <th>2021-05-27</th>\n      <td>126.440002</td>\n      <td>127.639999</td>\n      <td>125.279999</td>\n      <td>125.279999</td>\n      <td>94625601</td>\n      <td>0.00</td>\n      <td>0</td>\n    </tr>\n  </tbody>\n</table>\n</div>"
     },
     "metadata": {},
     "execution_count": 26
    }
   ],
   "source": [
    "days = 20\n",
    "hist_aapl = aapl.history(period=f'{days}d')\n",
    "hist_aapl"
   ]
  },
  {
   "cell_type": "code",
   "execution_count": 27,
   "metadata": {},
   "outputs": [],
   "source": [
    "hist_aapl.index =  hist_aapl.index.strftime('%d %B %Y')"
   ]
  },
  {
   "cell_type": "code",
   "execution_count": 31,
   "metadata": {},
   "outputs": [
    {
     "output_type": "execute_result",
     "data": {
      "text/plain": [
       "Date   30 April 2021  03 May 2021  04 May 2021  05 May 2021  06 May 2021  \\\n",
       "apple     131.237091   132.315247   127.633202    127.88279   129.520004   \n",
       "\n",
       "Date   07 May 2021  10 May 2021  11 May 2021  12 May 2021  13 May 2021  \\\n",
       "apple   130.210007   126.849998   125.910004   122.769997   124.970001   \n",
       "\n",
       "Date   14 May 2021  17 May 2021  18 May 2021  19 May 2021  20 May 2021  \\\n",
       "apple   127.449997   126.269997   124.849998   124.690002   127.309998   \n",
       "\n",
       "Date   21 May 2021  24 May 2021  25 May 2021  26 May 2021  27 May 2021  \n",
       "apple       125.43   127.099998   126.900002   126.849998   125.279999  "
      ],
      "text/html": "<div>\n<style scoped>\n    .dataframe tbody tr th:only-of-type {\n        vertical-align: middle;\n    }\n\n    .dataframe tbody tr th {\n        vertical-align: top;\n    }\n\n    .dataframe thead th {\n        text-align: right;\n    }\n</style>\n<table border=\"1\" class=\"dataframe\">\n  <thead>\n    <tr style=\"text-align: right;\">\n      <th>Date</th>\n      <th>30 April 2021</th>\n      <th>03 May 2021</th>\n      <th>04 May 2021</th>\n      <th>05 May 2021</th>\n      <th>06 May 2021</th>\n      <th>07 May 2021</th>\n      <th>10 May 2021</th>\n      <th>11 May 2021</th>\n      <th>12 May 2021</th>\n      <th>13 May 2021</th>\n      <th>14 May 2021</th>\n      <th>17 May 2021</th>\n      <th>18 May 2021</th>\n      <th>19 May 2021</th>\n      <th>20 May 2021</th>\n      <th>21 May 2021</th>\n      <th>24 May 2021</th>\n      <th>25 May 2021</th>\n      <th>26 May 2021</th>\n      <th>27 May 2021</th>\n    </tr>\n  </thead>\n  <tbody>\n    <tr>\n      <th>apple</th>\n      <td>131.237091</td>\n      <td>132.315247</td>\n      <td>127.633202</td>\n      <td>127.88279</td>\n      <td>129.520004</td>\n      <td>130.210007</td>\n      <td>126.849998</td>\n      <td>125.910004</td>\n      <td>122.769997</td>\n      <td>124.970001</td>\n      <td>127.449997</td>\n      <td>126.269997</td>\n      <td>124.849998</td>\n      <td>124.690002</td>\n      <td>127.309998</td>\n      <td>125.43</td>\n      <td>127.099998</td>\n      <td>126.900002</td>\n      <td>126.849998</td>\n      <td>125.279999</td>\n    </tr>\n  </tbody>\n</table>\n</div>"
     },
     "metadata": {},
     "execution_count": 31
    }
   ],
   "source": [
    "hist = hist_aapl[['Close']]\n",
    "hist.columns = ['apple']\n",
    "hist = hist.T\n",
    "hist"
   ]
  },
  {
   "cell_type": "code",
   "execution_count": 35,
   "metadata": {},
   "outputs": [
    {
     "output_type": "execute_result",
     "data": {
      "text/plain": [
       "Date      2021-04-30  2021-05-03  2021-05-04  2021-05-05  2021-05-06  \\\n",
       "Name                                                                   \n",
       "facebook  325.079987  322.579987  318.359985  315.019989  320.019989   \n",
       "\n",
       "Date      2021-05-07  2021-05-10  2021-05-11  2021-05-12  2021-05-13  \\\n",
       "Name                                                                   \n",
       "facebook  319.079987  305.970001  306.529999  302.549988   305.26001   \n",
       "\n",
       "Date      2021-05-14  2021-05-17  2021-05-18  2021-05-19  2021-05-20  \\\n",
       "Name                                                                   \n",
       "facebook  315.940002  315.459991  309.959991  313.589996  318.609985   \n",
       "\n",
       "Date      2021-05-21  2021-05-24  2021-05-25  2021-05-26  2021-05-27  \n",
       "Name                                                                  \n",
       "facebook  316.230011  324.630005  327.790009  327.660004      332.75  "
      ],
      "text/html": "<div>\n<style scoped>\n    .dataframe tbody tr th:only-of-type {\n        vertical-align: middle;\n    }\n\n    .dataframe tbody tr th {\n        vertical-align: top;\n    }\n\n    .dataframe thead th {\n        text-align: right;\n    }\n</style>\n<table border=\"1\" class=\"dataframe\">\n  <thead>\n    <tr style=\"text-align: right;\">\n      <th>Date</th>\n      <th>2021-04-30</th>\n      <th>2021-05-03</th>\n      <th>2021-05-04</th>\n      <th>2021-05-05</th>\n      <th>2021-05-06</th>\n      <th>2021-05-07</th>\n      <th>2021-05-10</th>\n      <th>2021-05-11</th>\n      <th>2021-05-12</th>\n      <th>2021-05-13</th>\n      <th>2021-05-14</th>\n      <th>2021-05-17</th>\n      <th>2021-05-18</th>\n      <th>2021-05-19</th>\n      <th>2021-05-20</th>\n      <th>2021-05-21</th>\n      <th>2021-05-24</th>\n      <th>2021-05-25</th>\n      <th>2021-05-26</th>\n      <th>2021-05-27</th>\n    </tr>\n    <tr>\n      <th>Name</th>\n      <th></th>\n      <th></th>\n      <th></th>\n      <th></th>\n      <th></th>\n      <th></th>\n      <th></th>\n      <th></th>\n      <th></th>\n      <th></th>\n      <th></th>\n      <th></th>\n      <th></th>\n      <th></th>\n      <th></th>\n      <th></th>\n      <th></th>\n      <th></th>\n      <th></th>\n      <th></th>\n    </tr>\n  </thead>\n  <tbody>\n    <tr>\n      <th>facebook</th>\n      <td>325.079987</td>\n      <td>322.579987</td>\n      <td>318.359985</td>\n      <td>315.019989</td>\n      <td>320.019989</td>\n      <td>319.079987</td>\n      <td>305.970001</td>\n      <td>306.529999</td>\n      <td>302.549988</td>\n      <td>305.26001</td>\n      <td>315.940002</td>\n      <td>315.459991</td>\n      <td>309.959991</td>\n      <td>313.589996</td>\n      <td>318.609985</td>\n      <td>316.230011</td>\n      <td>324.630005</td>\n      <td>327.790009</td>\n      <td>327.660004</td>\n      <td>332.75</td>\n    </tr>\n  </tbody>\n</table>\n</div>"
     },
     "metadata": {},
     "execution_count": 35
    }
   ],
   "source": [
    "days = 20\n",
    "tickers = {\n",
    "    'apple':'AAPL',\n",
    "    'facebook':'FB',\n",
    "}\n",
    "\n",
    "company = 'facebook'\n",
    "tkr = yf.Ticker(tickers[company])\n",
    "\n",
    "hist = tkr.history(period=f'{days}d')\n",
    "hist\n",
    "\n",
    "hist = hist[['Close']]\n",
    "hist.columns = [company]\n",
    "hist = hist.T\n",
    "hist.index.name = 'Name'\n",
    "hist"
   ]
  },
  {
   "cell_type": "code",
   "execution_count": 39,
   "metadata": {},
   "outputs": [],
   "source": [
    "days = 20\n",
    "\n",
    "tickers = {\n",
    "    'apple':'AAPL',\n",
    "    'facebook':'FB',\n",
    "    'google':'GOOGL',\n",
    "    'microsoft':'MSFT',\n",
    "    'netflix':'NFLX',\n",
    "    'amazon':'amzn'\n",
    "}\n",
    "\n",
    "df = pd.DataFrame()\n",
    "for company in tickers.keys():\n",
    "    tkr = yf.Ticker(tickers[company])\n",
    "\n",
    "    hist = tkr.history(period=f'{days}d')\n",
    "    hist\n",
    "\n",
    "    hist = hist[['Close']]\n",
    "    hist.columns = [company]\n",
    "    hist = hist.T\n",
    "    hist.index.name = 'Name'\n",
    "    df = pd.concat([df, hist])"
   ]
  },
  {
   "cell_type": "code",
   "execution_count": 40,
   "metadata": {},
   "outputs": [
    {
     "output_type": "execute_result",
     "data": {
      "text/plain": [
       "Date        2021-04-30   2021-05-03   2021-05-04   2021-05-05   2021-05-06  \\\n",
       "Name                                                                         \n",
       "apple       131.237091   132.315247   127.633202   127.882790   129.520004   \n",
       "facebook    325.079987   322.579987   318.359985   315.019989   320.019989   \n",
       "google     2353.500000  2343.080078  2306.830078  2314.770020  2337.350098   \n",
       "microsoft   251.599030   251.279770   247.219147   245.902191   249.154678   \n",
       "netflix     513.469971   509.109985   503.179993   496.079987   499.549988   \n",
       "amazon     3467.419922  3386.489990  3311.870117  3270.540039  3306.370117   \n",
       "\n",
       "Date        2021-05-07   2021-05-10   2021-05-11   2021-05-12   2021-05-13  \\\n",
       "Name                                                                         \n",
       "apple       130.210007   126.849998   125.910004   122.769997   124.970001   \n",
       "facebook    319.079987   305.970001   306.529999   302.549988   305.260010   \n",
       "google     2351.929932  2291.750000  2270.060059  2200.250000  2229.040039   \n",
       "microsoft   251.878387   246.610550   245.662735   238.449402   242.470108   \n",
       "netflix     503.839996   486.690002   495.079987   484.980011   486.660004   \n",
       "amazon     3291.610107  3190.489990  3223.909912  3151.939941  3161.469971   \n",
       "\n",
       "Date        2021-05-14   2021-05-17   2021-05-18   2021-05-19   2021-05-20  \\\n",
       "Name                                                                         \n",
       "apple       127.449997   126.269997   124.849998   124.690002   127.309998   \n",
       "facebook    315.940002   315.459991   309.959991   313.589996   318.609985   \n",
       "google     2278.379883  2288.919922  2262.469971  2271.500000  2306.949951   \n",
       "microsoft   247.578308   244.615158   242.520004   243.119995   246.479996   \n",
       "netflix     493.369995   488.940002   486.279999   487.700012   501.670013   \n",
       "amazon     3222.899902  3270.389893  3232.280029  3231.800049  3247.679932   \n",
       "\n",
       "Date        2021-05-21   2021-05-24   2021-05-25   2021-05-26   2021-05-27  \n",
       "Name                                                                        \n",
       "apple       125.430000   127.099998   126.900002   126.849998   125.279999  \n",
       "facebook    316.230011   324.630005   327.790009   327.660004   332.750000  \n",
       "google     2294.129883  2361.040039  2362.870117  2380.310059  2362.679932  \n",
       "microsoft   245.169998   250.779999   251.720001   251.490005   249.309998  \n",
       "netflix     497.890015   502.899994   501.339996   502.359985   503.859985  \n",
       "amazon     3203.080078  3244.989990  3259.050049  3265.159912  3230.110107  "
      ],
      "text/html": "<div>\n<style scoped>\n    .dataframe tbody tr th:only-of-type {\n        vertical-align: middle;\n    }\n\n    .dataframe tbody tr th {\n        vertical-align: top;\n    }\n\n    .dataframe thead th {\n        text-align: right;\n    }\n</style>\n<table border=\"1\" class=\"dataframe\">\n  <thead>\n    <tr style=\"text-align: right;\">\n      <th>Date</th>\n      <th>2021-04-30</th>\n      <th>2021-05-03</th>\n      <th>2021-05-04</th>\n      <th>2021-05-05</th>\n      <th>2021-05-06</th>\n      <th>2021-05-07</th>\n      <th>2021-05-10</th>\n      <th>2021-05-11</th>\n      <th>2021-05-12</th>\n      <th>2021-05-13</th>\n      <th>2021-05-14</th>\n      <th>2021-05-17</th>\n      <th>2021-05-18</th>\n      <th>2021-05-19</th>\n      <th>2021-05-20</th>\n      <th>2021-05-21</th>\n      <th>2021-05-24</th>\n      <th>2021-05-25</th>\n      <th>2021-05-26</th>\n      <th>2021-05-27</th>\n    </tr>\n    <tr>\n      <th>Name</th>\n      <th></th>\n      <th></th>\n      <th></th>\n      <th></th>\n      <th></th>\n      <th></th>\n      <th></th>\n      <th></th>\n      <th></th>\n      <th></th>\n      <th></th>\n      <th></th>\n      <th></th>\n      <th></th>\n      <th></th>\n      <th></th>\n      <th></th>\n      <th></th>\n      <th></th>\n      <th></th>\n    </tr>\n  </thead>\n  <tbody>\n    <tr>\n      <th>apple</th>\n      <td>131.237091</td>\n      <td>132.315247</td>\n      <td>127.633202</td>\n      <td>127.882790</td>\n      <td>129.520004</td>\n      <td>130.210007</td>\n      <td>126.849998</td>\n      <td>125.910004</td>\n      <td>122.769997</td>\n      <td>124.970001</td>\n      <td>127.449997</td>\n      <td>126.269997</td>\n      <td>124.849998</td>\n      <td>124.690002</td>\n      <td>127.309998</td>\n      <td>125.430000</td>\n      <td>127.099998</td>\n      <td>126.900002</td>\n      <td>126.849998</td>\n      <td>125.279999</td>\n    </tr>\n    <tr>\n      <th>facebook</th>\n      <td>325.079987</td>\n      <td>322.579987</td>\n      <td>318.359985</td>\n      <td>315.019989</td>\n      <td>320.019989</td>\n      <td>319.079987</td>\n      <td>305.970001</td>\n      <td>306.529999</td>\n      <td>302.549988</td>\n      <td>305.260010</td>\n      <td>315.940002</td>\n      <td>315.459991</td>\n      <td>309.959991</td>\n      <td>313.589996</td>\n      <td>318.609985</td>\n      <td>316.230011</td>\n      <td>324.630005</td>\n      <td>327.790009</td>\n      <td>327.660004</td>\n      <td>332.750000</td>\n    </tr>\n    <tr>\n      <th>google</th>\n      <td>2353.500000</td>\n      <td>2343.080078</td>\n      <td>2306.830078</td>\n      <td>2314.770020</td>\n      <td>2337.350098</td>\n      <td>2351.929932</td>\n      <td>2291.750000</td>\n      <td>2270.060059</td>\n      <td>2200.250000</td>\n      <td>2229.040039</td>\n      <td>2278.379883</td>\n      <td>2288.919922</td>\n      <td>2262.469971</td>\n      <td>2271.500000</td>\n      <td>2306.949951</td>\n      <td>2294.129883</td>\n      <td>2361.040039</td>\n      <td>2362.870117</td>\n      <td>2380.310059</td>\n      <td>2362.679932</td>\n    </tr>\n    <tr>\n      <th>microsoft</th>\n      <td>251.599030</td>\n      <td>251.279770</td>\n      <td>247.219147</td>\n      <td>245.902191</td>\n      <td>249.154678</td>\n      <td>251.878387</td>\n      <td>246.610550</td>\n      <td>245.662735</td>\n      <td>238.449402</td>\n      <td>242.470108</td>\n      <td>247.578308</td>\n      <td>244.615158</td>\n      <td>242.520004</td>\n      <td>243.119995</td>\n      <td>246.479996</td>\n      <td>245.169998</td>\n      <td>250.779999</td>\n      <td>251.720001</td>\n      <td>251.490005</td>\n      <td>249.309998</td>\n    </tr>\n    <tr>\n      <th>netflix</th>\n      <td>513.469971</td>\n      <td>509.109985</td>\n      <td>503.179993</td>\n      <td>496.079987</td>\n      <td>499.549988</td>\n      <td>503.839996</td>\n      <td>486.690002</td>\n      <td>495.079987</td>\n      <td>484.980011</td>\n      <td>486.660004</td>\n      <td>493.369995</td>\n      <td>488.940002</td>\n      <td>486.279999</td>\n      <td>487.700012</td>\n      <td>501.670013</td>\n      <td>497.890015</td>\n      <td>502.899994</td>\n      <td>501.339996</td>\n      <td>502.359985</td>\n      <td>503.859985</td>\n    </tr>\n    <tr>\n      <th>amazon</th>\n      <td>3467.419922</td>\n      <td>3386.489990</td>\n      <td>3311.870117</td>\n      <td>3270.540039</td>\n      <td>3306.370117</td>\n      <td>3291.610107</td>\n      <td>3190.489990</td>\n      <td>3223.909912</td>\n      <td>3151.939941</td>\n      <td>3161.469971</td>\n      <td>3222.899902</td>\n      <td>3270.389893</td>\n      <td>3232.280029</td>\n      <td>3231.800049</td>\n      <td>3247.679932</td>\n      <td>3203.080078</td>\n      <td>3244.989990</td>\n      <td>3259.050049</td>\n      <td>3265.159912</td>\n      <td>3230.110107</td>\n    </tr>\n  </tbody>\n</table>\n</div>"
     },
     "metadata": {},
     "execution_count": 40
    }
   ],
   "source": [
    "df"
   ]
  },
  {
   "cell_type": "code",
   "execution_count": 42,
   "metadata": {},
   "outputs": [],
   "source": [
    "import altair as alt"
   ]
  },
  {
   "cell_type": "code",
   "execution_count": 43,
   "metadata": {},
   "outputs": [
    {
     "output_type": "execute_result",
     "data": {
      "text/plain": [
       "Date        2021-04-30   2021-05-03   2021-05-04   2021-05-05   2021-05-06  \\\n",
       "Name                                                                         \n",
       "apple       131.237091   132.315247   127.633202   127.882790   129.520004   \n",
       "facebook    325.079987   322.579987   318.359985   315.019989   320.019989   \n",
       "google     2353.500000  2343.080078  2306.830078  2314.770020  2337.350098   \n",
       "microsoft   251.599030   251.279770   247.219147   245.902191   249.154678   \n",
       "netflix     513.469971   509.109985   503.179993   496.079987   499.549988   \n",
       "amazon     3467.419922  3386.489990  3311.870117  3270.540039  3306.370117   \n",
       "\n",
       "Date        2021-05-07   2021-05-10   2021-05-11   2021-05-12   2021-05-13  \\\n",
       "Name                                                                         \n",
       "apple       130.210007   126.849998   125.910004   122.769997   124.970001   \n",
       "facebook    319.079987   305.970001   306.529999   302.549988   305.260010   \n",
       "google     2351.929932  2291.750000  2270.060059  2200.250000  2229.040039   \n",
       "microsoft   251.878387   246.610550   245.662735   238.449402   242.470108   \n",
       "netflix     503.839996   486.690002   495.079987   484.980011   486.660004   \n",
       "amazon     3291.610107  3190.489990  3223.909912  3151.939941  3161.469971   \n",
       "\n",
       "Date        2021-05-14   2021-05-17   2021-05-18   2021-05-19   2021-05-20  \\\n",
       "Name                                                                         \n",
       "apple       127.449997   126.269997   124.849998   124.690002   127.309998   \n",
       "facebook    315.940002   315.459991   309.959991   313.589996   318.609985   \n",
       "google     2278.379883  2288.919922  2262.469971  2271.500000  2306.949951   \n",
       "microsoft   247.578308   244.615158   242.520004   243.119995   246.479996   \n",
       "netflix     493.369995   488.940002   486.279999   487.700012   501.670013   \n",
       "amazon     3222.899902  3270.389893  3232.280029  3231.800049  3247.679932   \n",
       "\n",
       "Date        2021-05-21   2021-05-24   2021-05-25   2021-05-26   2021-05-27  \n",
       "Name                                                                        \n",
       "apple       125.430000   127.099998   126.900002   126.849998   125.279999  \n",
       "facebook    316.230011   324.630005   327.790009   327.660004   332.750000  \n",
       "google     2294.129883  2361.040039  2362.870117  2380.310059  2362.679932  \n",
       "microsoft   245.169998   250.779999   251.720001   251.490005   249.309998  \n",
       "netflix     497.890015   502.899994   501.339996   502.359985   503.859985  \n",
       "amazon     3203.080078  3244.989990  3259.050049  3265.159912  3230.110107  "
      ],
      "text/html": "<div>\n<style scoped>\n    .dataframe tbody tr th:only-of-type {\n        vertical-align: middle;\n    }\n\n    .dataframe tbody tr th {\n        vertical-align: top;\n    }\n\n    .dataframe thead th {\n        text-align: right;\n    }\n</style>\n<table border=\"1\" class=\"dataframe\">\n  <thead>\n    <tr style=\"text-align: right;\">\n      <th>Date</th>\n      <th>2021-04-30</th>\n      <th>2021-05-03</th>\n      <th>2021-05-04</th>\n      <th>2021-05-05</th>\n      <th>2021-05-06</th>\n      <th>2021-05-07</th>\n      <th>2021-05-10</th>\n      <th>2021-05-11</th>\n      <th>2021-05-12</th>\n      <th>2021-05-13</th>\n      <th>2021-05-14</th>\n      <th>2021-05-17</th>\n      <th>2021-05-18</th>\n      <th>2021-05-19</th>\n      <th>2021-05-20</th>\n      <th>2021-05-21</th>\n      <th>2021-05-24</th>\n      <th>2021-05-25</th>\n      <th>2021-05-26</th>\n      <th>2021-05-27</th>\n    </tr>\n    <tr>\n      <th>Name</th>\n      <th></th>\n      <th></th>\n      <th></th>\n      <th></th>\n      <th></th>\n      <th></th>\n      <th></th>\n      <th></th>\n      <th></th>\n      <th></th>\n      <th></th>\n      <th></th>\n      <th></th>\n      <th></th>\n      <th></th>\n      <th></th>\n      <th></th>\n      <th></th>\n      <th></th>\n      <th></th>\n    </tr>\n  </thead>\n  <tbody>\n    <tr>\n      <th>apple</th>\n      <td>131.237091</td>\n      <td>132.315247</td>\n      <td>127.633202</td>\n      <td>127.882790</td>\n      <td>129.520004</td>\n      <td>130.210007</td>\n      <td>126.849998</td>\n      <td>125.910004</td>\n      <td>122.769997</td>\n      <td>124.970001</td>\n      <td>127.449997</td>\n      <td>126.269997</td>\n      <td>124.849998</td>\n      <td>124.690002</td>\n      <td>127.309998</td>\n      <td>125.430000</td>\n      <td>127.099998</td>\n      <td>126.900002</td>\n      <td>126.849998</td>\n      <td>125.279999</td>\n    </tr>\n    <tr>\n      <th>facebook</th>\n      <td>325.079987</td>\n      <td>322.579987</td>\n      <td>318.359985</td>\n      <td>315.019989</td>\n      <td>320.019989</td>\n      <td>319.079987</td>\n      <td>305.970001</td>\n      <td>306.529999</td>\n      <td>302.549988</td>\n      <td>305.260010</td>\n      <td>315.940002</td>\n      <td>315.459991</td>\n      <td>309.959991</td>\n      <td>313.589996</td>\n      <td>318.609985</td>\n      <td>316.230011</td>\n      <td>324.630005</td>\n      <td>327.790009</td>\n      <td>327.660004</td>\n      <td>332.750000</td>\n    </tr>\n    <tr>\n      <th>google</th>\n      <td>2353.500000</td>\n      <td>2343.080078</td>\n      <td>2306.830078</td>\n      <td>2314.770020</td>\n      <td>2337.350098</td>\n      <td>2351.929932</td>\n      <td>2291.750000</td>\n      <td>2270.060059</td>\n      <td>2200.250000</td>\n      <td>2229.040039</td>\n      <td>2278.379883</td>\n      <td>2288.919922</td>\n      <td>2262.469971</td>\n      <td>2271.500000</td>\n      <td>2306.949951</td>\n      <td>2294.129883</td>\n      <td>2361.040039</td>\n      <td>2362.870117</td>\n      <td>2380.310059</td>\n      <td>2362.679932</td>\n    </tr>\n    <tr>\n      <th>microsoft</th>\n      <td>251.599030</td>\n      <td>251.279770</td>\n      <td>247.219147</td>\n      <td>245.902191</td>\n      <td>249.154678</td>\n      <td>251.878387</td>\n      <td>246.610550</td>\n      <td>245.662735</td>\n      <td>238.449402</td>\n      <td>242.470108</td>\n      <td>247.578308</td>\n      <td>244.615158</td>\n      <td>242.520004</td>\n      <td>243.119995</td>\n      <td>246.479996</td>\n      <td>245.169998</td>\n      <td>250.779999</td>\n      <td>251.720001</td>\n      <td>251.490005</td>\n      <td>249.309998</td>\n    </tr>\n    <tr>\n      <th>netflix</th>\n      <td>513.469971</td>\n      <td>509.109985</td>\n      <td>503.179993</td>\n      <td>496.079987</td>\n      <td>499.549988</td>\n      <td>503.839996</td>\n      <td>486.690002</td>\n      <td>495.079987</td>\n      <td>484.980011</td>\n      <td>486.660004</td>\n      <td>493.369995</td>\n      <td>488.940002</td>\n      <td>486.279999</td>\n      <td>487.700012</td>\n      <td>501.670013</td>\n      <td>497.890015</td>\n      <td>502.899994</td>\n      <td>501.339996</td>\n      <td>502.359985</td>\n      <td>503.859985</td>\n    </tr>\n    <tr>\n      <th>amazon</th>\n      <td>3467.419922</td>\n      <td>3386.489990</td>\n      <td>3311.870117</td>\n      <td>3270.540039</td>\n      <td>3306.370117</td>\n      <td>3291.610107</td>\n      <td>3190.489990</td>\n      <td>3223.909912</td>\n      <td>3151.939941</td>\n      <td>3161.469971</td>\n      <td>3222.899902</td>\n      <td>3270.389893</td>\n      <td>3232.280029</td>\n      <td>3231.800049</td>\n      <td>3247.679932</td>\n      <td>3203.080078</td>\n      <td>3244.989990</td>\n      <td>3259.050049</td>\n      <td>3265.159912</td>\n      <td>3230.110107</td>\n    </tr>\n  </tbody>\n</table>\n</div>"
     },
     "metadata": {},
     "execution_count": 43
    }
   ],
   "source": [
    "df"
   ]
  },
  {
   "cell_type": "code",
   "execution_count": 48,
   "metadata": {},
   "outputs": [
    {
     "output_type": "execute_result",
     "data": {
      "text/plain": [
       "Date      2021-04-30  2021-05-03  2021-05-04  2021-05-05  2021-05-06  \\\n",
       "Name                                                                   \n",
       "apple     131.237091  132.315247  127.633202  127.882790  129.520004   \n",
       "facebook  325.079987  322.579987  318.359985  315.019989  320.019989   \n",
       "\n",
       "Date      2021-05-07  2021-05-10  2021-05-11  2021-05-12  2021-05-13  \\\n",
       "Name                                                                   \n",
       "apple     130.210007  126.849998  125.910004  122.769997  124.970001   \n",
       "facebook  319.079987  305.970001  306.529999  302.549988  305.260010   \n",
       "\n",
       "Date      2021-05-14  2021-05-17  2021-05-18  2021-05-19  2021-05-20  \\\n",
       "Name                                                                   \n",
       "apple     127.449997  126.269997  124.849998  124.690002  127.309998   \n",
       "facebook  315.940002  315.459991  309.959991  313.589996  318.609985   \n",
       "\n",
       "Date      2021-05-21  2021-05-24  2021-05-25  2021-05-26  2021-05-27  \n",
       "Name                                                                  \n",
       "apple     125.430000  127.099998  126.900002  126.849998  125.279999  \n",
       "facebook  316.230011  324.630005  327.790009  327.660004  332.750000  "
      ],
      "text/html": "<div>\n<style scoped>\n    .dataframe tbody tr th:only-of-type {\n        vertical-align: middle;\n    }\n\n    .dataframe tbody tr th {\n        vertical-align: top;\n    }\n\n    .dataframe thead th {\n        text-align: right;\n    }\n</style>\n<table border=\"1\" class=\"dataframe\">\n  <thead>\n    <tr style=\"text-align: right;\">\n      <th>Date</th>\n      <th>2021-04-30</th>\n      <th>2021-05-03</th>\n      <th>2021-05-04</th>\n      <th>2021-05-05</th>\n      <th>2021-05-06</th>\n      <th>2021-05-07</th>\n      <th>2021-05-10</th>\n      <th>2021-05-11</th>\n      <th>2021-05-12</th>\n      <th>2021-05-13</th>\n      <th>2021-05-14</th>\n      <th>2021-05-17</th>\n      <th>2021-05-18</th>\n      <th>2021-05-19</th>\n      <th>2021-05-20</th>\n      <th>2021-05-21</th>\n      <th>2021-05-24</th>\n      <th>2021-05-25</th>\n      <th>2021-05-26</th>\n      <th>2021-05-27</th>\n    </tr>\n    <tr>\n      <th>Name</th>\n      <th></th>\n      <th></th>\n      <th></th>\n      <th></th>\n      <th></th>\n      <th></th>\n      <th></th>\n      <th></th>\n      <th></th>\n      <th></th>\n      <th></th>\n      <th></th>\n      <th></th>\n      <th></th>\n      <th></th>\n      <th></th>\n      <th></th>\n      <th></th>\n      <th></th>\n      <th></th>\n    </tr>\n  </thead>\n  <tbody>\n    <tr>\n      <th>apple</th>\n      <td>131.237091</td>\n      <td>132.315247</td>\n      <td>127.633202</td>\n      <td>127.882790</td>\n      <td>129.520004</td>\n      <td>130.210007</td>\n      <td>126.849998</td>\n      <td>125.910004</td>\n      <td>122.769997</td>\n      <td>124.970001</td>\n      <td>127.449997</td>\n      <td>126.269997</td>\n      <td>124.849998</td>\n      <td>124.690002</td>\n      <td>127.309998</td>\n      <td>125.430000</td>\n      <td>127.099998</td>\n      <td>126.900002</td>\n      <td>126.849998</td>\n      <td>125.279999</td>\n    </tr>\n    <tr>\n      <th>facebook</th>\n      <td>325.079987</td>\n      <td>322.579987</td>\n      <td>318.359985</td>\n      <td>315.019989</td>\n      <td>320.019989</td>\n      <td>319.079987</td>\n      <td>305.970001</td>\n      <td>306.529999</td>\n      <td>302.549988</td>\n      <td>305.260010</td>\n      <td>315.940002</td>\n      <td>315.459991</td>\n      <td>309.959991</td>\n      <td>313.589996</td>\n      <td>318.609985</td>\n      <td>316.230011</td>\n      <td>324.630005</td>\n      <td>327.790009</td>\n      <td>327.660004</td>\n      <td>332.750000</td>\n    </tr>\n  </tbody>\n</table>\n</div>"
     },
     "metadata": {},
     "execution_count": 48
    }
   ],
   "source": [
    "companies = ['apple', 'facebook']\n",
    "data=df.loc[companies]\n",
    "data"
   ]
  },
  {
   "cell_type": "code",
   "execution_count": 49,
   "metadata": {},
   "outputs": [
    {
     "output_type": "execute_result",
     "data": {
      "text/plain": [
       "Date      2021-04-30  2021-05-03  2021-05-04  2021-05-05  2021-05-06  \\\n",
       "Name                                                                   \n",
       "apple     131.237091  132.315247  127.633202  127.882790  129.520004   \n",
       "facebook  325.079987  322.579987  318.359985  315.019989  320.019989   \n",
       "\n",
       "Date      2021-05-07  2021-05-10  2021-05-11  2021-05-12  2021-05-13  \\\n",
       "Name                                                                   \n",
       "apple     130.210007  126.849998  125.910004  122.769997  124.970001   \n",
       "facebook  319.079987  305.970001  306.529999  302.549988  305.260010   \n",
       "\n",
       "Date      2021-05-14  2021-05-17  2021-05-18  2021-05-19  2021-05-20  \\\n",
       "Name                                                                   \n",
       "apple     127.449997  126.269997  124.849998  124.690002  127.309998   \n",
       "facebook  315.940002  315.459991  309.959991  313.589996  318.609985   \n",
       "\n",
       "Date      2021-05-21  2021-05-24  2021-05-25  2021-05-26  2021-05-27  \n",
       "Name                                                                  \n",
       "apple     125.430000  127.099998  126.900002  126.849998  125.279999  \n",
       "facebook  316.230011  324.630005  327.790009  327.660004  332.750000  "
      ],
      "text/html": "<div>\n<style scoped>\n    .dataframe tbody tr th:only-of-type {\n        vertical-align: middle;\n    }\n\n    .dataframe tbody tr th {\n        vertical-align: top;\n    }\n\n    .dataframe thead th {\n        text-align: right;\n    }\n</style>\n<table border=\"1\" class=\"dataframe\">\n  <thead>\n    <tr style=\"text-align: right;\">\n      <th>Date</th>\n      <th>2021-04-30</th>\n      <th>2021-05-03</th>\n      <th>2021-05-04</th>\n      <th>2021-05-05</th>\n      <th>2021-05-06</th>\n      <th>2021-05-07</th>\n      <th>2021-05-10</th>\n      <th>2021-05-11</th>\n      <th>2021-05-12</th>\n      <th>2021-05-13</th>\n      <th>2021-05-14</th>\n      <th>2021-05-17</th>\n      <th>2021-05-18</th>\n      <th>2021-05-19</th>\n      <th>2021-05-20</th>\n      <th>2021-05-21</th>\n      <th>2021-05-24</th>\n      <th>2021-05-25</th>\n      <th>2021-05-26</th>\n      <th>2021-05-27</th>\n    </tr>\n    <tr>\n      <th>Name</th>\n      <th></th>\n      <th></th>\n      <th></th>\n      <th></th>\n      <th></th>\n      <th></th>\n      <th></th>\n      <th></th>\n      <th></th>\n      <th></th>\n      <th></th>\n      <th></th>\n      <th></th>\n      <th></th>\n      <th></th>\n      <th></th>\n      <th></th>\n      <th></th>\n      <th></th>\n      <th></th>\n    </tr>\n  </thead>\n  <tbody>\n    <tr>\n      <th>apple</th>\n      <td>131.237091</td>\n      <td>132.315247</td>\n      <td>127.633202</td>\n      <td>127.882790</td>\n      <td>129.520004</td>\n      <td>130.210007</td>\n      <td>126.849998</td>\n      <td>125.910004</td>\n      <td>122.769997</td>\n      <td>124.970001</td>\n      <td>127.449997</td>\n      <td>126.269997</td>\n      <td>124.849998</td>\n      <td>124.690002</td>\n      <td>127.309998</td>\n      <td>125.430000</td>\n      <td>127.099998</td>\n      <td>126.900002</td>\n      <td>126.849998</td>\n      <td>125.279999</td>\n    </tr>\n    <tr>\n      <th>facebook</th>\n      <td>325.079987</td>\n      <td>322.579987</td>\n      <td>318.359985</td>\n      <td>315.019989</td>\n      <td>320.019989</td>\n      <td>319.079987</td>\n      <td>305.970001</td>\n      <td>306.529999</td>\n      <td>302.549988</td>\n      <td>305.260010</td>\n      <td>315.940002</td>\n      <td>315.459991</td>\n      <td>309.959991</td>\n      <td>313.589996</td>\n      <td>318.609985</td>\n      <td>316.230011</td>\n      <td>324.630005</td>\n      <td>327.790009</td>\n      <td>327.660004</td>\n      <td>332.750000</td>\n    </tr>\n  </tbody>\n</table>\n</div>"
     },
     "metadata": {},
     "execution_count": 49
    }
   ],
   "source": [
    "data.sort_index()"
   ]
  },
  {
   "cell_type": "code",
   "execution_count": 52,
   "metadata": {},
   "outputs": [],
   "source": [
    "data = data.T.reset_index()"
   ]
  },
  {
   "cell_type": "code",
   "execution_count": null,
   "metadata": {},
   "outputs": [],
   "source": []
  }
 ]
}